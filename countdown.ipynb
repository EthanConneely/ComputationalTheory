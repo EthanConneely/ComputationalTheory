{
    "cells": [
        {
            "cell_type": "code",
            "execution_count": 1,
            "metadata": {},
            "outputs": [],
            "source": [
                "import random\n",
                "\n",
                "def generate_game(bigNumbers) -> (list[int],int):\n",
                "    if bigNumbers>4 or bigNumbers<0:\n",
                "        raise ValueError(\"Invalid bigNumbers\")\n",
                "\n",
                "    largeNumbers=random.sample([25,50,75,100],bigNumbers)\n",
                "    smallNumbers=random.sample(list(range(1,11))+list(range(1,11)),6-bigNumbers)\n",
                "\n",
                "    numbers = largeNumbers + smallNumbers\n",
                "\n",
                "    random.shuffle(numbers)\n",
                "\n",
                "    return (numbers, random.randint(101, 999))\n"
            ]
        }
    ],
    "metadata": {
        "kernelspec": {
            "display_name": "Python 3",
            "language": "python",
            "name": "python3"
        },
        "language_info": {
            "codemirror_mode": {
                "name": "ipython",
                "version": 3
            },
            "file_extension": ".py",
            "mimetype": "text/x-python",
            "name": "python",
            "nbconvert_exporter": "python",
            "pygments_lexer": "ipython3",
            "version": "3.11.6"
        }
    },
    "nbformat": 4,
    "nbformat_minor": 2
}
