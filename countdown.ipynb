{
 "cells": [
  {
   "cell_type": "code",
   "execution_count": 204,
   "metadata": {},
   "outputs": [],
   "source": [
    "import random\n",
    "\n",
    "def generate_game(bigNumbers) -> (list[int],int):\n",
    "    if bigNumbers>4 or bigNumbers<0:\n",
    "        raise ValueError(\"Invalid bigNumbers\")\n",
    "\n",
    "    largeNumbers=random.sample([25,50,75,100],bigNumbers)\n",
    "    smallNumbers=random.sample(list(range(1,11))+list(range(1,11)),6-bigNumbers)\n",
    "\n",
    "    numbers = largeNumbers + smallNumbers\n",
    "\n",
    "    random.shuffle(numbers)\n",
    "\n",
    "    return (numbers, random.randint(101, 999))\n"
   ]
  },
   "metadata": {},
   "outputs": [],
   "source": []
  }
 ],
 "metadata": {
  "kernelspec": {
   "display_name": "Python 3",
   "language": "python",
   "name": "python3"
  },
  "language_info": {
   "name": "python",
   "version": "3.11.6"
  }
 },
 "nbformat": 4,
 "nbformat_minor": 2
}
