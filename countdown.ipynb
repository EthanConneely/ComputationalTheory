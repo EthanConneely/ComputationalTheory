{
    "cells": [
        {
            "cell_type": "code",
            "execution_count": 303,
            "metadata": {},
            "outputs": [],
            "source": [
                "import random\n",
                "import itertools\n",
                "import numpy as np"
            ]
        },
        {
            "cell_type": "code",
            "execution_count": 304,
            "metadata": {},
            "outputs": [],
            "source": [
                "def generate_game(bigNumbers) -> tuple[list[int],int]:\n",
                "    if bigNumbers>4 or bigNumbers<0:\n",
                "        raise ValueError(\"Invalid bigNumbers\")\n",
                "\n",
                "    largeNumbers=random.sample([25,50,75,100],bigNumbers)\n",
                "    smallNumbers=random.sample(list(range(1,11))+list(range(1,11)),6-bigNumbers)\n",
                "\n",
                "    numbers = largeNumbers + smallNumbers\n",
                "\n",
                "    return (numbers, random.randint(101, 999))\n"
            ]
        },
        {
            "cell_type": "code",
            "execution_count": 305,
            "metadata": {},
            "outputs": [],
            "source": [
                "operations = {\n",
                "    \"+\": lambda x, y: x + y,\n",
                "    \"-\": lambda x, y: x - y,\n",
                "    \"*\": lambda x, y: x * y,\n",
                "    \"/\": lambda x, y: x // y,  # integer division\n",
                "}\n",
                "\n",
                "\n",
                "def recusive_solve_countdown(numbers, target, calculations=[]):\n",
                "\n",
                "    solutions = []\n",
                "\n",
                "\n",
                "    # iterate over all pair of number pairs\n",
                "    for pair in itertools.combinations(numbers, 2):\n",
                "\n",
                "        # Remove the pair from the list of numbers and make copy\n",
                "        computedNumbers = numbers.copy()\n",
                "        computedNumbers.remove(pair[0])\n",
                "        computedNumbers.remove(pair[1])\n",
                "\n",
                "        for op, calculate in operations.items():\n",
                "            a = max(pair)\n",
                "            b = min(pair)\n",
                "\n",
                "            val = calculate(a, b)\n",
                "            print(calculations,a, op, b, \"=\", val, val == target)\n",
                "\n",
                "            calcs = [*calculations, (a, op, b)]\n",
                "\n",
                "            if val == target:\n",
                "                solutions.append(calcs)\n",
                "\n",
                "            sols = recusive_solve_countdown([val, *computedNumbers], target, calcs)\n",
                "            if len(sols) != 0:\n",
                "                solutions=[*sols, *solutions]\n",
                "\n",
                "        # print(pair,computedNumbers)\n",
                "\n",
                "    return solutions"
            ]
        },
        {
            "cell_type": "code",
            "execution_count": 306,
            "metadata": {},
            "outputs": [],
            "source": [
                "def solve_numbers(game):\n",
                "    numbers = game[0]\n",
                "    target  = game[1]\n",
                "\n",
                "    # # Check for invalid inputs\n",
                "    # if len(numbers) != 6:\n",
                "    #     raise ValueError(\"Invalid number of numbers\")\n",
                "\n",
                "    # if not 101 <= target <= 999:\n",
                "    #     raise ValueError(\"Invalid target number\")\n",
                "\n",
                "    return recusive_solve_countdown(numbers, target)\n"
            ]
        },
        {
            "cell_type": "code",
            "execution_count": 307,
            "metadata": {},
            "outputs": [
                {
                    "name": "stdout",
                    "output_type": "stream",
                    "text": [
                        "[] 5 + 2 = 7 False\n",
                        "[(5, '+', 2)] 15 + 7 = 22 False\n",
                        "[(5, '+', 2)] 15 - 7 = 8 False\n",
                        "[(5, '+', 2)] 15 * 7 = 105 False\n",
                        "[(5, '+', 2)] 15 / 7 = 2 False\n",
                        "[] 5 - 2 = 3 False\n",
                        "[(5, '-', 2)] 15 + 3 = 18 False\n",
                        "[(5, '-', 2)] 15 - 3 = 12 False\n",
                        "[(5, '-', 2)] 15 * 3 = 45 False\n",
                        "[(5, '-', 2)] 15 / 3 = 5 True\n",
                        "[] 5 * 2 = 10 False\n",
                        "[(5, '*', 2)] 15 + 10 = 25 False\n",
                        "[(5, '*', 2)] 15 - 10 = 5 True\n",
                        "[(5, '*', 2)] 15 * 10 = 150 False\n",
                        "[(5, '*', 2)] 15 / 10 = 1 False\n",
                        "[] 5 / 2 = 2 False\n",
                        "[(5, '/', 2)] 15 + 2 = 17 False\n",
                        "[(5, '/', 2)] 15 - 2 = 13 False\n",
                        "[(5, '/', 2)] 15 * 2 = 30 False\n",
                        "[(5, '/', 2)] 15 / 2 = 7 False\n",
                        "[] 15 + 5 = 20 False\n",
                        "[(15, '+', 5)] 20 + 2 = 22 False\n",
                        "[(15, '+', 5)] 20 - 2 = 18 False\n",
                        "[(15, '+', 5)] 20 * 2 = 40 False\n",
                        "[(15, '+', 5)] 20 / 2 = 10 False\n",
                        "[] 15 - 5 = 10 False\n",
                        "[(15, '-', 5)] 10 + 2 = 12 False\n",
                        "[(15, '-', 5)] 10 - 2 = 8 False\n",
                        "[(15, '-', 5)] 10 * 2 = 20 False\n",
                        "[(15, '-', 5)] 10 / 2 = 5 True\n",
                        "[] 15 * 5 = 75 False\n",
                        "[(15, '*', 5)] 75 + 2 = 77 False\n",
                        "[(15, '*', 5)] 75 - 2 = 73 False\n",
                        "[(15, '*', 5)] 75 * 2 = 150 False\n",
                        "[(15, '*', 5)] 75 / 2 = 37 False\n",
                        "[] 15 / 5 = 3 False\n",
                        "[(15, '/', 5)] 3 + 2 = 5 True\n",
                        "[(15, '/', 5)] 3 - 2 = 1 False\n",
                        "[(15, '/', 5)] 3 * 2 = 6 False\n",
                        "[(15, '/', 5)] 3 / 2 = 1 False\n",
                        "[] 15 + 2 = 17 False\n",
                        "[(15, '+', 2)] 17 + 5 = 22 False\n",
                        "[(15, '+', 2)] 17 - 5 = 12 False\n",
                        "[(15, '+', 2)] 17 * 5 = 85 False\n",
                        "[(15, '+', 2)] 17 / 5 = 3 False\n",
                        "[] 15 - 2 = 13 False\n",
                        "[(15, '-', 2)] 13 + 5 = 18 False\n",
                        "[(15, '-', 2)] 13 - 5 = 8 False\n",
                        "[(15, '-', 2)] 13 * 5 = 65 False\n",
                        "[(15, '-', 2)] 13 / 5 = 2 False\n",
                        "[] 15 * 2 = 30 False\n",
                        "[(15, '*', 2)] 30 + 5 = 35 False\n",
                        "[(15, '*', 2)] 30 - 5 = 25 False\n",
                        "[(15, '*', 2)] 30 * 5 = 150 False\n",
                        "[(15, '*', 2)] 30 / 5 = 6 False\n",
                        "[] 15 / 2 = 7 False\n",
                        "[(15, '/', 2)] 7 + 5 = 12 False\n",
                        "[(15, '/', 2)] 7 - 5 = 2 False\n",
                        "[(15, '/', 2)] 7 * 5 = 35 False\n",
                        "[(15, '/', 2)] 7 / 5 = 1 False\n"
                    ]
                },
                {
                    "data": {
                        "text/plain": [
                            "[[(15, '/', 5), (3, '+', 2)],\n",
                            " [(15, '-', 5), (10, '/', 2)],\n",
                            " [(5, '*', 2), (15, '-', 10)],\n",
                            " [(5, '-', 2), (15, '/', 3)]]"
                        ]
                    },
                    "execution_count": 307,
                    "metadata": {},
                    "output_type": "execute_result"
                }
            ],
            "source": [
                "game = generate_game(2)\n",
                "\n",
                "testGame = ([5,2,15], 5)\n",
                "\n",
                "solve_numbers(testGame)"
            ]
        }
    ],
    "metadata": {
        "kernelspec": {
            "display_name": "Python 3",
            "language": "python",
            "name": "python3"
        },
        "language_info": {
            "codemirror_mode": {
                "name": "ipython",
                "version": 3
            },
            "file_extension": ".py",
            "mimetype": "text/x-python",
            "name": "python",
            "nbconvert_exporter": "python",
            "pygments_lexer": "ipython3",
            "version": "3.11.6"
        }
    },
    "nbformat": 4,
    "nbformat_minor": 2
}
