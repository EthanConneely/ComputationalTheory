{
    "cells": [
        {
            "cell_type": "code",
            "execution_count": 1,
            "metadata": {},
            "outputs": [],
            "source": [
                "import random\n",
                "\n",
                "def generate_game(bigNumbers) -> (list[int],int):\n",
                "    if bigNumbers>4 or bigNumbers<0:\n",
                "        raise ValueError(\"Invalid bigNumbers\")\n",
                "\n",
                "    largeNumbers=random.sample([25,50,75,100],bigNumbers)\n",
                "    smallNumbers=random.sample(list(range(1,11))+list(range(1,11)),6-bigNumbers)\n",
                "\n",
                "    numbers = largeNumbers + smallNumbers\n",
                "\n",
                "    random.shuffle(numbers)\n",
                "\n",
                "    return (numbers, random.randint(101, 999))\n"
            ]
        },
        {
            "cell_type": "code",
            "execution_count": 3,
            "metadata": {},
            "outputs": [],
            "source": [
                "def solve_numbers(game):\n",
                "    numbers = game[0]\n",
                "    target  = game[1]\n",
                "\n",
                "    # Check for invalid inputs\n",
                "    if len(numbers) != 6:\n",
                "        raise ValueError(\"Invalid number of numbers\")\n",
                "\n",
                "    if not 101 <= target <= 999:\n",
                "        raise ValueError(\"Invalid target number\")\n",
                "\n",
                "    return None\n"
            ]
        }
    ],
    "metadata": {
        "kernelspec": {
            "display_name": "Python 3",
            "language": "python",
            "name": "python3"
        },
        "language_info": {
            "codemirror_mode": {
                "name": "ipython",
                "version": 3
            },
            "file_extension": ".py",
            "mimetype": "text/x-python",
            "name": "python",
            "nbconvert_exporter": "python",
            "pygments_lexer": "ipython3",
            "version": "3.11.6"
        }
    },
    "nbformat": 4,
    "nbformat_minor": 2
}
