{
    "cells": [
        {
            "cell_type": "code",
            "execution_count": 44,
            "metadata": {},
            "outputs": [],
            "source": [
                "import random\n",
                "import itertools\n",
                "\n",
                "import numpy as np\n",
                "\n",
                "def generate_game(bigNumbers) -> tuple[list[int],int]:\n",
                "    if bigNumbers>4 or bigNumbers<0:\n",
                "        raise ValueError(\"Invalid bigNumbers\")\n",
                "\n",
                "    largeNumbers=random.sample([25,50,75,100],bigNumbers)\n",
                "    smallNumbers=random.sample(list(range(1,11))+list(range(1,11)),6-bigNumbers)\n",
                "\n",
                "    numbers = largeNumbers + smallNumbers\n",
                "\n",
                "    return (numbers, random.randint(101, 999))\n"
            ]
        },
        {
            "cell_type": "code",
            "execution_count": 45,
            "metadata": {},
            "outputs": [],
            "source": [
                "def recusive_solve_countdown(numbers,target):\n",
                "    print(numbers,target)\n",
                "    # iterate over all pair of numvers\n",
                "    for pair in itertools.product(numbers, repeat=2):\n",
                "        print(pair)"
            ]
        },
        {
            "cell_type": "code",
            "execution_count": 46,
            "metadata": {},
            "outputs": [],
            "source": [
                "def solve_numbers(game):\n",
                "    numbers = game[0]\n",
                "    target  = game[1]\n",
                "\n",
                "    # Check for invalid inputs\n",
                "    if len(numbers) != 6:\n",
                "        raise ValueError(\"Invalid number of numbers\")\n",
                "\n",
                "    if not 101 <= target <= 999:\n",
                "        raise ValueError(\"Invalid target number\")\n",
                "\n",
                "    recusive_solve_countdown(numbers, target)\n",
                "\n",
                "    return None\n"
            ]
        },
        {
            "cell_type": "code",
            "execution_count": 47,
            "metadata": {},
            "outputs": [
                {
                    "name": "stdout",
                    "output_type": "stream",
                    "text": [
                        "([50, 100, 10, 1, 9, 3], 454)\n",
                        "[50, 100, 10, 1, 9, 3] 454\n",
                        "(50, 50)\n",
                        "(50, 100)\n",
                        "(50, 10)\n",
                        "(50, 1)\n",
                        "(50, 9)\n",
                        "(50, 3)\n",
                        "(100, 50)\n",
                        "(100, 100)\n",
                        "(100, 10)\n",
                        "(100, 1)\n",
                        "(100, 9)\n",
                        "(100, 3)\n",
                        "(10, 50)\n",
                        "(10, 100)\n",
                        "(10, 10)\n",
                        "(10, 1)\n",
                        "(10, 9)\n",
                        "(10, 3)\n",
                        "(1, 50)\n",
                        "(1, 100)\n",
                        "(1, 10)\n",
                        "(1, 1)\n",
                        "(1, 9)\n",
                        "(1, 3)\n",
                        "(9, 50)\n",
                        "(9, 100)\n",
                        "(9, 10)\n",
                        "(9, 1)\n",
                        "(9, 9)\n",
                        "(9, 3)\n",
                        "(3, 50)\n",
                        "(3, 100)\n",
                        "(3, 10)\n",
                        "(3, 1)\n",
                        "(3, 9)\n",
                        "(3, 3)\n"
                    ]
                }
            ],
            "source": [
                "game = generate_game(2)\n",
                "print(game)\n",
                "\n",
                "solve_numbers(game)"
            ]
        }
    ],
    "metadata": {
        "kernelspec": {
            "display_name": "Python 3",
            "language": "python",
            "name": "python3"
        },
        "language_info": {
            "codemirror_mode": {
                "name": "ipython",
                "version": 3
            },
            "file_extension": ".py",
            "mimetype": "text/x-python",
            "name": "python",
            "nbconvert_exporter": "python",
            "pygments_lexer": "ipython3",
            "version": "3.11.8"
        }
    },
    "nbformat": 4,
    "nbformat_minor": 2
}
