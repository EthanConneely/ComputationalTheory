{
    "cells": [
        {
            "cell_type": "code",
            "execution_count": 36,
            "metadata": {},
            "outputs": [],
            "source": [
                "import random\n",
                "import itertools\n",
                "\n",
                "import numpy as np\n",
                "\n",
                "def generate_game(bigNumbers) -> tuple[list[int],int]:\n",
                "    if bigNumbers>4 or bigNumbers<0:\n",
                "        raise ValueError(\"Invalid bigNumbers\")\n",
                "\n",
                "    largeNumbers=random.sample([25,50,75,100],bigNumbers)\n",
                "    smallNumbers=random.sample(list(range(1,11))+list(range(1,11)),6-bigNumbers)\n",
                "\n",
                "    numbers = largeNumbers + smallNumbers\n",
                "\n",
                "    return (numbers, random.randint(101, 999))\n"
            ]
        },
        {
            "cell_type": "code",
            "execution_count": 37,
            "metadata": {},
            "outputs": [],
            "source": [
                "def solve_numbers(game):\n",
                "    numbers = game[0]\n",
                "    target  = game[1]\n",
                "\n",
                "    # Check for invalid inputs\n",
                "    if len(numbers) != 6:\n",
                "        raise ValueError(\"Invalid number of numbers\")\n",
                "\n",
                "    if not 101 <= target <= 999:\n",
                "        raise ValueError(\"Invalid target number\")\n",
                "\n",
                "    recusive_solve_countdown(numbers, target)\n",
                "\n",
                "    return None\n"
            ]
        },
        {
            "cell_type": "code",
            "execution_count": 38,
            "metadata": {},
            "outputs": [],
            "source": [
                "def recusive_solve_countdown(numbers,target):\n",
                "    print(numbers,target)\n",
                "    # iterate over all pair of numvers\n",
                "    for pair in itertools.product(numbers, repeat=2):\n",
                "        print(pair)"
            ]
        },
        {
            "cell_type": "code",
            "execution_count": 39,
            "metadata": {},
            "outputs": [
                {
                    "name": "stdout",
                    "output_type": "stream",
                    "text": [
                        "([75, 25, 2, 9, 7, 7], 604)\n",
                        "(75, 75)\n",
                        "(75, 25)\n",
                        "(75, 2)\n",
                        "(75, 9)\n",
                        "(75, 7)\n",
                        "(75, 7)\n",
                        "(25, 75)\n",
                        "(25, 25)\n",
                        "(25, 2)\n",
                        "(25, 9)\n",
                        "(25, 7)\n",
                        "(25, 7)\n",
                        "(2, 75)\n",
                        "(2, 25)\n",
                        "(2, 2)\n",
                        "(2, 9)\n",
                        "(2, 7)\n",
                        "(2, 7)\n",
                        "(9, 75)\n",
                        "(9, 25)\n",
                        "(9, 2)\n",
                        "(9, 9)\n",
                        "(9, 7)\n",
                        "(9, 7)\n",
                        "(7, 75)\n",
                        "(7, 25)\n",
                        "(7, 2)\n",
                        "(7, 9)\n",
                        "(7, 7)\n",
                        "(7, 7)\n",
                        "(7, 75)\n",
                        "(7, 25)\n",
                        "(7, 2)\n",
                        "(7, 9)\n",
                        "(7, 7)\n",
                        "(7, 7)\n"
                    ]
                }
            ],
            "source": [
                "game = generate_game(2)\n",
                "print(game)\n",
                "\n",
                "solve_numbers(game)"
            ]
        }
    ],
    "metadata": {
        "kernelspec": {
            "display_name": "Python 3",
            "language": "python",
            "name": "python3"
        },
        "language_info": {
            "codemirror_mode": {
                "name": "ipython",
                "version": 3
            },
            "file_extension": ".py",
            "mimetype": "text/x-python",
            "name": "python",
            "nbconvert_exporter": "python",
            "pygments_lexer": "ipython3",
            "version": "3.11.8"
        }
    },
    "nbformat": 4,
    "nbformat_minor": 2
}
